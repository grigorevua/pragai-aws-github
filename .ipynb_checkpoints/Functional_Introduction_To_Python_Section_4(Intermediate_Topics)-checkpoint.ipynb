{
 "cells": [
  {
   "cell_type": "markdown",
   "metadata": {
    "slideshow": {
     "slide_type": "slide"
    }
   },
   "source": [
    "# A Functional Introduction To Python\n",
    "## Section 1.  Introductory Concepts \n",
    "## Section 2.  Functions\n",
    "## Section 3.  Control Structures\n",
    "## <span style=\"color:blue\"> Section 4.  Intermediate Topics</span>"
   ]
  },
  {
   "cell_type": "markdown",
   "metadata": {
    "slideshow": {
     "slide_type": "slide"
    }
   },
   "source": [
    "## Section 4:  Intermediate Topics\n",
    "*  Writing a library in Python\n",
    "*  Importing a library in Python and using namespaces\n",
    "*  Using other libraries with pip install\n",
    "*  Mixing Third Party Libraries With Your Code\n",
    "*  Classes:  Making simple objects and interactiving with them\n",
    "*  Writing Classes Basics\n",
    "*  Differences Between Classes and Functions\n",
    "\n"
   ]
  },
  {
   "cell_type": "markdown",
   "metadata": {
    "slideshow": {
     "slide_type": "slide"
    }
   },
   "source": [
    "### Writing a library in Python\n",
    "It doesn't take long into a project before writing a library in python becomes important.  These are the basics\n",
    "In this repository there is a folder called ```funclib``` and inside is a ```__init__.py``` file.  To create a library, a module is needed in this directory with a function in it.\n",
    "\n",
    "Create a file:\n",
    "\n",
    "```\n",
    "touch funclib/funcmod.py\n",
    "\n",
    "```\n",
    "\n",
    "Inside this file, a function is created:\n",
    "\n",
    "\n",
    "```python\n",
    "\"\"\"This is a simple module\"\"\"\n",
    "\n",
    "def list_of_belts_in_bjj():\n",
    "    \"\"\"Returns a list of the belts in Brazilian Jiu Jitsu\"\"\"\n",
    "\n",
    "    belts = [\"white\", \"blue\", \"purple\", \"brown\", \"black\"]\n",
    "    return belts\n",
    "```\n",
    "\n"
   ]
  },
  {
   "cell_type": "markdown",
   "metadata": {
    "slideshow": {
     "slide_type": "slide"
    }
   },
   "source": [
    "### Importing the library\n",
    "With Jupyter, if a library is directory above, sys.path.append can be added so it will be imported.\n",
    "Next, the module is imported using the namespace of the folder/filename/function name that was created earlier."
   ]
  },
  {
   "cell_type": "code",
   "execution_count": 1,
   "metadata": {
    "slideshow": {
     "slide_type": "subslide"
    }
   },
   "outputs": [],
   "source": [
    "import sys;sys.path.append(\"..\")\n",
    "from funclib import funcmod"
   ]
  },
  {
   "cell_type": "code",
   "execution_count": 2,
   "metadata": {
    "slideshow": {
     "slide_type": "subslide"
    }
   },
   "outputs": [
    {
     "data": {
      "text/plain": [
       "['white', 'blue', 'purple', 'brown', 'black', 'yellow']"
      ]
     },
     "execution_count": 2,
     "metadata": {},
     "output_type": "execute_result"
    }
   ],
   "source": [
    "funcmod.list_of_belts_in_bjj()"
   ]
  },
  {
   "cell_type": "markdown",
   "metadata": {
    "slideshow": {
     "slide_type": "slide"
    }
   },
   "source": [
    "### Installing other libraries using pip install\n",
    "Installing other libraries can be done with the ```pip install``` command\n",
    "\n",
    "To install the pandas package:\n",
    "\n",
    "```pip install pandas```\n",
    "\n",
    "Alternatively packages can be installed using a requirements.txt file\n",
    "\n",
    "```\n",
    "> cat requirements.txt \n",
    "pylint\n",
    "pytest\n",
    "pytest-cov\n",
    "click\n",
    "jupyter\n",
    "nbval\n",
    "\n",
    "> pip install -r requirements.txt\n",
    "\n",
    "```\n",
    "\n",
    "### To Use A 3rd Party Library in Library\n",
    "Import it in the library\n",
    "\n",
    "```python\n",
    "\"\"\"This is a simple module\"\"\"\n",
    "\n",
    "import pandas as pd\n",
    "\n",
    "def list_of_belts_in_bjj():\n",
    "    \"\"\"Returns a list of the belts in Brazilian Jiu Jitsu\"\"\"\n",
    "\n",
    "    belts = [\"white\", \"blue\", \"purple\", \"brown\", \"black\"]\n",
    "    return belts\n",
    "\n",
    "def count_belts():\n",
    "    \"\"\"Uses Pandas to count number of belts\"\"\"\n",
    "\n",
    "    belts = list_of_belts_in_bjj()\n",
    "    df = pd.DataFrame(belts)\n",
    "    res = df.count()\n",
    "    count = res.values.tolist()[0]\n",
    "    return count \n",
    "```\n"
   ]
  },
  {
   "cell_type": "code",
   "execution_count": 3,
   "metadata": {
    "slideshow": {
     "slide_type": "subslide"
    }
   },
   "outputs": [],
   "source": [
    "from funclib.funcmod import count_belts"
   ]
  },
  {
   "cell_type": "code",
   "execution_count": 4,
   "metadata": {
    "slideshow": {
     "slide_type": "subslide"
    }
   },
   "outputs": [
    {
     "name": "stdout",
     "output_type": "stream",
     "text": [
      "6\n"
     ]
    }
   ],
   "source": [
    "print(count_belts())"
   ]
  },
  {
   "cell_type": "markdown",
   "metadata": {
    "slideshow": {
     "slide_type": "slide"
    }
   },
   "source": [
    "### Classes\n",
    "Using classes and interacting with them can be done iteratively in Jupyter Notebook.\n",
    "The simplest type of class is just a name as shown below:\n",
    "```\n",
    "class Competitor: pass\n",
    "```\n",
    "But, that class can be instantiated into multiple objects\n"
   ]
  },
  {
   "cell_type": "code",
   "execution_count": 5,
   "metadata": {
    "slideshow": {
     "slide_type": "subslide"
    }
   },
   "outputs": [],
   "source": [
    "class Competitor: pass"
   ]
  },
  {
   "cell_type": "code",
   "execution_count": 6,
   "metadata": {
    "slideshow": {
     "slide_type": "subslide"
    }
   },
   "outputs": [],
   "source": [
    "conor = Competitor()\n",
    "conor.name = \"Conor McGregor\"\n",
    "conor.age = 29\n",
    "conor.weight = 155\n"
   ]
  },
  {
   "cell_type": "code",
   "execution_count": 7,
   "metadata": {
    "slideshow": {
     "slide_type": "subslide"
    }
   },
   "outputs": [],
   "source": [
    "nate = Competitor()\n",
    "nate.name = \"Nate Diaz\"\n",
    "nate.age = 30\n",
    "nate.weight = 170\n"
   ]
  },
  {
   "cell_type": "code",
   "execution_count": 8,
   "metadata": {
    "slideshow": {
     "slide_type": "subslide"
    }
   },
   "outputs": [],
   "source": [
    "def print_competitor_age(object):\n",
    "    \"\"\"Print out age statistics about a competitor\"\"\"\n",
    "    \n",
    "    print(f\"{object.name} is {object.age} years old\")\n",
    "    \n",
    "    "
   ]
  },
  {
   "cell_type": "code",
   "execution_count": 9,
   "metadata": {
    "slideshow": {
     "slide_type": "subslide"
    }
   },
   "outputs": [
    {
     "name": "stdout",
     "output_type": "stream",
     "text": [
      "Nate Diaz is 30 years old\n"
     ]
    }
   ],
   "source": [
    "print_competitor_age(nate)"
   ]
  },
  {
   "cell_type": "code",
   "execution_count": 10,
   "metadata": {
    "slideshow": {
     "slide_type": "subslide"
    }
   },
   "outputs": [
    {
     "name": "stdout",
     "output_type": "stream",
     "text": [
      "Conor McGregor is 29 years old\n"
     ]
    }
   ],
   "source": [
    "print_competitor_age(conor)"
   ]
  },
  {
   "cell_type": "markdown",
   "metadata": {
    "slideshow": {
     "slide_type": "slide"
    }
   },
   "source": [
    "### Classes with Inheritance and Methods\n",
    "Classes can also inhert from other classes including methods.\n",
    "Often inheritance can be complex and a rule of thumb is to use discretion.\n",
    "\n",
    "In the example below, a UFC class was created that has a method (similar to a function), that can determine what weight class an athlete belongs to.  Then the Competitor class uses \"inheritance\", to inhert the code in the class."
   ]
  },
  {
   "cell_type": "code",
   "execution_count": 11,
   "metadata": {
    "slideshow": {
     "slide_type": "subslide"
    }
   },
   "outputs": [],
   "source": [
    "class UFC:\n",
    "    def weight_class(self, weight):\n",
    "        \"\"\"Weight Class Finder\"\"\"\n",
    "        \n",
    "        classes = {155: \"Lightweight\", \n",
    "                    170: \"Welterweight\"}\n",
    "        return classes[weight]\n",
    "\n",
    "        "
   ]
  },
  {
   "cell_type": "code",
   "execution_count": 12,
   "metadata": {
    "slideshow": {
     "slide_type": "subslide"
    }
   },
   "outputs": [],
   "source": [
    "class Competitor(UFC): pass"
   ]
  },
  {
   "cell_type": "code",
   "execution_count": 13,
   "metadata": {
    "slideshow": {
     "slide_type": "subslide"
    }
   },
   "outputs": [],
   "source": [
    "conor = Competitor()\n",
    "conor.name = \"Conor McGregor\"\n",
    "conor.age = 29\n",
    "conor.weight = 155\n"
   ]
  },
  {
   "cell_type": "code",
   "execution_count": 14,
   "metadata": {
    "slideshow": {
     "slide_type": "subslide"
    }
   },
   "outputs": [],
   "source": [
    "nate = Competitor()\n",
    "nate.name = \"Nate Diaz\"\n",
    "nate.age = 30\n",
    "nate.weight = 170\n"
   ]
  },
  {
   "cell_type": "code",
   "execution_count": 15,
   "metadata": {
    "slideshow": {
     "slide_type": "subslide"
    }
   },
   "outputs": [
    {
     "name": "stdout",
     "output_type": "stream",
     "text": [
      "Lightweight\n"
     ]
    }
   ],
   "source": [
    "print(conor.weight_class(conor.weight))"
   ]
  },
  {
   "cell_type": "code",
   "execution_count": 16,
   "metadata": {
    "slideshow": {
     "slide_type": "subslide"
    }
   },
   "outputs": [
    {
     "name": "stdout",
     "output_type": "stream",
     "text": [
      "Welterweight\n"
     ]
    }
   ],
   "source": [
    "print(nate.weight_class(nate.weight))"
   ]
  },
  {
   "cell_type": "markdown",
   "metadata": {
    "slideshow": {
     "slide_type": "slide"
    }
   },
   "source": [
    "### Differences Between Classes and Functions\n",
    "The key differences between Classes and Functions are:\n",
    "\n",
    "* Functions are much easier to reason about\n",
    "* Functions (typically) have state inside the function only, where classes have state persists outside of the function\n",
    "* Classes can offer a more advanced level of abstraction at the cost of complexity"
   ]
  }
 ],
 "metadata": {
  "celltoolbar": "Slideshow",
  "kernelspec": {
   "display_name": "Python 3",
   "language": "python",
   "name": "python3"
  },
  "language_info": {
   "codemirror_mode": {
    "name": "ipython",
    "version": 3
   },
   "file_extension": ".py",
   "mimetype": "text/x-python",
   "name": "python",
   "nbconvert_exporter": "python",
   "pygments_lexer": "ipython3",
   "version": "3.6.9"
  }
 },
 "nbformat": 4,
 "nbformat_minor": 2
}
